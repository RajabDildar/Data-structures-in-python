{
 "cells": [
  {
   "cell_type": "markdown",
   "id": "8470c436",
   "metadata": {},
   "source": [
    "Hashing Linear Probing"
   ]
  },
  {
   "cell_type": "code",
   "execution_count": null,
   "id": "3b105d34",
   "metadata": {},
   "outputs": [],
   "source": [
    "class Dictionary:\n",
    "    def __init__(self,size):\n",
    "        self.size = size\n",
    "        self.slots = [None] * self.size\n",
    "        self.data = [None] * self.size\n",
    "\n",
    "    def put(self,key,value):\n",
    "        index_pos = self.hash_function(key)\n",
    "        if self.slots[index_pos] == None:\n",
    "            self.slots[index_pos] = key\n",
    "            self.data[index_pos] = value\n",
    "        else:\n",
    "            if self.slots[index_pos] == key:\n",
    "                self.data[index_pos] = value\n",
    "            else:\n",
    "                # rehash\n",
    "                new_index_pos = self.rehash(index_pos)\n",
    "                while self.slots[new_index_pos] != None and self.slots[new_index_pos] != key:\n",
    "                    new_index_pos = self.rehash(new_index_pos)\n",
    "                \n",
    "                if self.slots[new_index_pos] == None:\n",
    "                    self.slots[new_index_pos] = key\n",
    "                    self.data[new_index_pos] = value\n",
    "                else:\n",
    "                    self.data[new_index_pos] = value\n",
    "\n",
    "    def __setitem__(self,key,value):\n",
    "        self.put(key,value)\n",
    "\n",
    "    def __str__(self):\n",
    "        result = \"\"\n",
    "        for i in range(len(self.slots)):\n",
    "            if self.slots[i] != None:\n",
    "                result = result + str(self.slots[i]) + \": \" + str(self.data[i]) + \",\"\n",
    "\n",
    "        return \"{ \"+ result[:-1] + \" }\"\n",
    "    def get(self,key):\n",
    "        start_pos = self.hash_function(key)\n",
    "        curr_pos = start_pos\n",
    "\n",
    "        while self.slots[curr_pos] != None:\n",
    "            if self.slots[curr_pos] == key:\n",
    "                return self.data[curr_pos]\n",
    "            \n",
    "            curr_pos = self.rehash(curr_pos)\n",
    "            if curr_pos == start_pos:\n",
    "                return \"Not Found!\"\n",
    "            \n",
    "        return \"Not Found!\"\n",
    "    \n",
    "    def __getitem__(self,key):\n",
    "        return self.get(key)\n",
    "\n",
    "    def rehash(self,old_index_pos):\n",
    "        return (old_index_pos + 1) % self.size\n",
    "\n",
    "    def hash_function(self,key):\n",
    "        index_pos = abs(hash(key)) % self.size\n",
    "        return index_pos\n"
   ]
  },
  {
   "cell_type": "code",
   "execution_count": null,
   "id": "6dac671a",
   "metadata": {},
   "outputs": [],
   "source": [
    "D1 = Dictionary(3)"
   ]
  },
  {
   "cell_type": "code",
   "execution_count": null,
   "id": "eacc5b9c",
   "metadata": {},
   "outputs": [],
   "source": [
    "print(D1.slots)\n",
    "print(D1.data)"
   ]
  },
  {
   "cell_type": "code",
   "execution_count": null,
   "id": "de78dae2",
   "metadata": {},
   "outputs": [],
   "source": [
    "D1[\"python\"] = 33"
   ]
  },
  {
   "cell_type": "code",
   "execution_count": null,
   "id": "53ca18b8",
   "metadata": {},
   "outputs": [],
   "source": [
    "print(D1)"
   ]
  }
 ],
 "metadata": {
  "kernelspec": {
   "display_name": "Python 3",
   "language": "python",
   "name": "python3"
  },
  "language_info": {
   "codemirror_mode": {
    "name": "ipython",
    "version": 3
   },
   "file_extension": ".py",
   "mimetype": "text/x-python",
   "name": "python",
   "nbconvert_exporter": "python",
   "pygments_lexer": "ipython3",
   "version": "3.13.5"
  }
 },
 "nbformat": 4,
 "nbformat_minor": 5
}
