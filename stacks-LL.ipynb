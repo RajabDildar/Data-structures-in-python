{
 "cells": [
  {
   "cell_type": "code",
   "execution_count": null,
   "id": "897f956a",
   "metadata": {},
   "outputs": [],
   "source": [
    "class Node():\n",
    "\n",
    "    def __init__(self,value,next=None):\n",
    "        self.value = value\n",
    "        self.next = next"
   ]
  },
  {
   "cell_type": "code",
   "execution_count": null,
   "id": "49b2ab5b",
   "metadata": {},
   "outputs": [],
   "source": [
    "class Stack():\n",
    "\n",
    "    def __init__(self):\n",
    "        self.top = None\n",
    "        # self.n = 0\n",
    "    \n",
    "    def isempty(self):\n",
    "        return self.top == None\n",
    "    \n",
    "    def push(self, value):\n",
    "        new_node = Node(value)\n",
    "        new_node.next = self.top\n",
    "        self.top = new_node\n",
    "\n",
    "    def traverse(self):\n",
    "        curr_node = self.top\n",
    "\n",
    "        while curr_node != None:\n",
    "            print(curr_node.value)\n",
    "            curr_node = curr_node.next\n",
    "\n",
    "    def peek(self):\n",
    "        if(self.isempty()):\n",
    "            return \"Empty Stack\"\n",
    "        else:\n",
    "            return self.top.value\n",
    "        \n",
    "    def pop(self):\n",
    "        if(self.isempty()):\n",
    "            return \"Empty Stack\"\n",
    "        else:\n",
    "            popped_value = self.top.value\n",
    "            self.top = self.top.next\n",
    "            return popped_value\n",
    "\n",
    "    def get_size(self):\n",
    "        curr_node = self.top\n",
    "        size = 0\n",
    "        while curr_node!=None:\n",
    "            size+=1\n",
    "            curr_node = curr_node.next\n",
    "        \n",
    "        return size\n",
    "    \n",
    "    def reverse(self):\n",
    "        curr = self.top\n",
    "        prev = None\n",
    "\n",
    "        while curr != None:\n",
    "            temp = curr.next\n",
    "            curr.next = prev\n",
    "            prev = curr\n",
    "            curr = temp\n",
    "        \n",
    "        self.top = prev\n",
    "        "
   ]
  },
  {
   "cell_type": "code",
   "execution_count": null,
   "id": "f4cde408",
   "metadata": {},
   "outputs": [],
   "source": [
    "st1 = Stack()\n",
    "st1.push(11)\n",
    "st1.push(12)\n",
    "st1.push(13)\n",
    "st1.push(14)\n",
    "st1.push(15)"
   ]
  },
  {
   "cell_type": "code",
   "execution_count": null,
   "id": "14260437",
   "metadata": {},
   "outputs": [],
   "source": [
    "st1.pop()"
   ]
  },
  {
   "cell_type": "code",
   "execution_count": null,
   "id": "88a60ae9",
   "metadata": {},
   "outputs": [],
   "source": [
    "# st1.peek()\n",
    "# st1.get_size()\n",
    "# st1.reverse()\n",
    "st1.traverse()"
   ]
  },
  {
   "cell_type": "code",
   "execution_count": null,
   "id": "7487b0e0",
   "metadata": {},
   "outputs": [],
   "source": [
    "def reverse_string(text):\n",
    "    s = Stack()\n",
    "\n",
    "    for i in text:\n",
    "        s.push(i)\n",
    "    \n",
    "    res = \"\"\n",
    "    while (not s.isempty()):\n",
    "        res += s.pop() # olleh\n",
    "    print(res)\n",
    "\n",
    "# not a good way to solve like this, because time and space complexity is O(n). \n",
    "# instead changing in place using two pointers is good"
   ]
  },
  {
   "cell_type": "code",
   "execution_count": null,
   "id": "70cae1df",
   "metadata": {},
   "outputs": [],
   "source": [
    "reverse_string(\"Hello\")"
   ]
  }
 ],
 "metadata": {
  "kernelspec": {
   "display_name": "Python 3",
   "language": "python",
   "name": "python3"
  },
  "language_info": {
   "codemirror_mode": {
    "name": "ipython",
    "version": 3
   },
   "file_extension": ".py",
   "mimetype": "text/x-python",
   "name": "python",
   "nbconvert_exporter": "python",
   "pygments_lexer": "ipython3",
   "version": "3.13.5"
  }
 },
 "nbformat": 4,
 "nbformat_minor": 5
}
