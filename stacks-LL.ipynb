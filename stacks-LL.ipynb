{
 "cells": [
  {
   "cell_type": "code",
   "execution_count": null,
   "id": "897f956a",
   "metadata": {},
   "outputs": [],
   "source": [
    "class Node():\n",
    "\n",
    "    def __init__(self,value,next=None):\n",
    "        self.value = value\n",
    "        self.next = next"
   ]
  },
  {
   "cell_type": "code",
   "execution_count": null,
   "id": "49b2ab5b",
   "metadata": {},
   "outputs": [],
   "source": [
    "class Stack():\n",
    "\n",
    "    def __init__(self):\n",
    "        self.top = None\n",
    "    \n",
    "    def isempty(self):\n",
    "        return self.top == None\n",
    "    \n",
    "    # in stacks, we enter items from head(top)\n",
    "    def push(self, value):\n",
    "        new_node = Node(value)\n",
    "        new_node.next = self.top\n",
    "        self.top = new_node\n",
    "\n",
    "    def traverse(self):\n",
    "        curr_node = self.top\n",
    "\n",
    "        while curr_node != None:\n",
    "            print(curr_node.value)\n",
    "            curr_node = curr_node.next\n",
    "\n",
    "    def peek(self):\n",
    "        if(self.isempty()):\n",
    "            return \"Empty Stack\"\n",
    "        else:\n",
    "            return self.top.value\n",
    "\n",
    "    # in stacks, we remove items from head(top)\n",
    "    def pop(self):\n",
    "        if(self.isempty()):\n",
    "            return \"Empty Stack\"\n",
    "        else:\n",
    "            popped_value = self.top.value\n",
    "            self.top = self.top.next\n",
    "            return popped_value\n",
    "\n",
    "    def get_size(self):\n",
    "        curr_node = self.top\n",
    "        size = 0\n",
    "        while curr_node!=None:\n",
    "            size+=1\n",
    "            curr_node = curr_node.next\n",
    "        \n",
    "        return size\n",
    "    \n",
    "    def reverse(self):\n",
    "        curr = self.top\n",
    "        prev = None\n",
    "\n",
    "        while curr != None:\n",
    "            temp = curr.next\n",
    "            curr.next = prev\n",
    "            prev = curr\n",
    "            curr = temp\n",
    "        \n",
    "        self.top = prev\n",
    "        "
   ]
  },
  {
   "cell_type": "code",
   "execution_count": null,
   "id": "f4cde408",
   "metadata": {},
   "outputs": [],
   "source": [
    "st1 = Stack()\n",
    "st1.push(11)\n",
    "st1.push(12)\n",
    "st1.push(13)\n",
    "st1.push(14)\n",
    "st1.push(15)"
   ]
  },
  {
   "cell_type": "code",
   "execution_count": null,
   "id": "88a60ae9",
   "metadata": {},
   "outputs": [],
   "source": [
    "# st1.pop()\n",
    "# st1.peek()\n",
    "# st1.get_size()\n",
    "# st1.reverse()\n",
    "st1.traverse()"
   ]
  },
  {
   "cell_type": "code",
   "execution_count": null,
   "id": "7487b0e0",
   "metadata": {},
   "outputs": [],
   "source": [
    "def reverse_string(text):\n",
    "    s = Stack()\n",
    "\n",
    "    for i in text:\n",
    "        s.push(i)\n",
    "    \n",
    "    res = \"\"\n",
    "    while (not s.isempty()):\n",
    "        res += s.pop() # olleh\n",
    "    print(res)\n",
    "\n",
    "# not a good way to solve like this, because time and space complexity is O(n). \n",
    "# instead changing in place using two pointers is good"
   ]
  },
  {
   "cell_type": "code",
   "execution_count": null,
   "id": "70cae1df",
   "metadata": {},
   "outputs": [],
   "source": [
    "reverse_string(\"Hello\")"
   ]
  },
  {
   "cell_type": "markdown",
   "id": "b06910e1",
   "metadata": {},
   "source": [
    "Undo-Redo operations using Stack"
   ]
  },
  {
   "cell_type": "code",
   "execution_count": null,
   "id": "0cbbe123",
   "metadata": {},
   "outputs": [],
   "source": [
    "def text_editor(text,operations):\n",
    "    u = Stack()\n",
    "    r = Stack()\n",
    "    for i in text:\n",
    "        u.push(i)\n",
    "\n",
    "    for i in operations:\n",
    "        if i == \"u\":\n",
    "            data = u.pop()\n",
    "            r.push(data)\n",
    "        elif i == \"r\" and r.get_size() != 0:\n",
    "            data = r.pop()\n",
    "            u.push(data)\n",
    "        else:\n",
    "            return \"invalid operation\"\n",
    "    res = \"\"\n",
    "    while not u.isempty():\n",
    "        res = u.pop() + res\n",
    "\n",
    "    return res\n",
    "\n"
   ]
  },
  {
   "cell_type": "code",
   "execution_count": null,
   "id": "d6694979",
   "metadata": {},
   "outputs": [],
   "source": [
    "text_editor(\"Hello\",\"ururur\")"
   ]
  },
  {
   "cell_type": "markdown",
   "id": "4da90f55",
   "metadata": {},
   "source": [
    "Celebrity problem using Stack"
   ]
  },
  {
   "cell_type": "code",
   "execution_count": null,
   "id": "2c3a47ad",
   "metadata": {},
   "outputs": [],
   "source": [
    "L = [ \n",
    "    [0,0,1,1],\n",
    "    [0,0,1,0],\n",
    "    [0,0,0,0],\n",
    "    [0,0,1,0] \n",
    "]"
   ]
  },
  {
   "cell_type": "code",
   "execution_count": null,
   "id": "a164daca",
   "metadata": {},
   "outputs": [],
   "source": [
    "# jise sab jante hain lekin wo kisi ko nahi janta - celebrity\n",
    "# rule 1 - celebrity ko sab jante hain\n",
    "# rule 2 - celebrity kisi ko bhi nahi janta\n",
    "def find_celeb(L):\n",
    "    s = Stack()\n",
    "\n",
    "    for i in range(len(L)):\n",
    "        s.push(i) \n",
    "\n",
    "    while s.get_size() >= 2:\n",
    "        i = s.pop() # 3\n",
    "        j = s.pop() # 2\n",
    "\n",
    "        if L[i][j] == 0:\n",
    "            # j is not a celebrity\n",
    "            s.push(i)\n",
    "        else:\n",
    "            # i is not a celebrity\n",
    "            s.push(j)\n",
    "        \n",
    "    celeb = s.pop()\n",
    "\n",
    "    for i in range(len(L)):\n",
    "\n",
    "        if i != celeb:\n",
    "            if L[i][celeb] == 0 or L[celeb][i] == 1:\n",
    "                print(\"No one is celebrity...\")\n",
    "                return \n",
    "    \n",
    "    print(f\"celebrity is {celeb}\")    \n",
    "\n"
   ]
  },
  {
   "cell_type": "code",
   "execution_count": null,
   "id": "16198938",
   "metadata": {},
   "outputs": [],
   "source": [
    "find_celeb(L)"
   ]
  },
  {
   "cell_type": "markdown",
   "id": "baf5c784",
   "metadata": {},
   "source": [
    "Valid parenthesis problem"
   ]
  },
  {
   "cell_type": "code",
   "execution_count": null,
   "id": "10bef6a8",
   "metadata": {},
   "outputs": [],
   "source": [
    "equation = \"[{(a+b) + (c+d)}]\""
   ]
  },
  {
   "cell_type": "code",
   "execution_count": null,
   "id": "4bccd688",
   "metadata": {},
   "outputs": [],
   "source": [
    "def check_equation(equation):\n",
    "    s = Stack()\n",
    "\n",
    "    for i in equation:\n",
    "\n",
    "        if ((i == \")\" or i == \"]\" or i == \"}\" ) and s.get_size() == 0):\n",
    "            return False  \n",
    "\n",
    "        if(i == \"[\" or i == \"{\" or i == \"(\" ):\n",
    "            s.push(i)\n",
    "        \n",
    "        if (i == \"]\"):\n",
    "            if s.peek() == \"[\":\n",
    "                s.pop()\n",
    "            else:\n",
    "                return False\n",
    "        \n",
    "        if (i == \"}\"):\n",
    "            if s.peek() == \"{\":\n",
    "                s.pop()\n",
    "            else:\n",
    "                return False\n",
    "    \n",
    "        if (i == \")\"):\n",
    "            if s.peek() == \"(\":\n",
    "                s.pop()\n",
    "            else:\n",
    "                return False\n",
    "        \n",
    "              \n",
    "    \n",
    "    if (s.get_size() == 0):\n",
    "        return True\n",
    "    else:\n",
    "        return False\n",
    "\n"
   ]
  },
  {
   "cell_type": "code",
   "execution_count": null,
   "id": "4537f17f",
   "metadata": {},
   "outputs": [],
   "source": [
    "check_equation(equation)"
   ]
  }
 ],
 "metadata": {
  "kernelspec": {
   "display_name": "Python 3",
   "language": "python",
   "name": "python3"
  },
  "language_info": {
   "codemirror_mode": {
    "name": "ipython",
    "version": 3
   },
   "file_extension": ".py",
   "mimetype": "text/x-python",
   "name": "python",
   "nbconvert_exporter": "python",
   "pygments_lexer": "ipython3",
   "version": "3.13.5"
  }
 },
 "nbformat": 4,
 "nbformat_minor": 5
}
