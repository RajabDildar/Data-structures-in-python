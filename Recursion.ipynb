{
 "cells": [
  {
   "cell_type": "code",
   "execution_count": null,
   "id": "4d08f836",
   "metadata": {},
   "outputs": [],
   "source": [
    "# Printing number from n to 1 via recursion\n",
    "def printNums(n):\n",
    "    print(n)\n",
    "    # base case\n",
    "    if (n==1):\n",
    "        return\n",
    "    printNums(n-1)\n",
    "\n",
    "printNums(4)"
   ]
  },
  {
   "cell_type": "code",
   "execution_count": null,
   "id": "bbc79d3f",
   "metadata": {},
   "outputs": [],
   "source": [
    "def calc_factorial(n):\n",
    "    if (n == 0):\n",
    "        return 1\n",
    "    return n * calc_factorial(n-1)\n",
    "\n",
    "calc_factorial(4)"
   ]
  },
  {
   "cell_type": "code",
   "execution_count": null,
   "id": "3007e75e",
   "metadata": {},
   "outputs": [],
   "source": [
    "def sum_of_nums(n):\n",
    "    if n == 1:\n",
    "        return 1\n",
    "    return n + sum_of_nums(n-1)\n",
    "\n",
    "sum_of_nums(4)"
   ]
  },
  {
   "cell_type": "code",
   "execution_count": null,
   "id": "bbcbfb72",
   "metadata": {},
   "outputs": [],
   "source": [
    "def find_fibonnaci(n):\n",
    "    if n ==0 or n == 1:\n",
    "        return n\n",
    "    return find_fibonnaci(n-1) + find_fibonnaci(n-2) \n",
    "     \n",
    "\n",
    "find_fibonnaci(6)"
   ]
  },
  {
   "cell_type": "code",
   "execution_count": null,
   "id": "2bd11795",
   "metadata": {},
   "outputs": [],
   "source": [
    "# The rabbit problem\n",
    "def reproduce(pairs,month):\n",
    "    if month == 12:\n",
    "        return pairs\n",
    "    \n",
    "    month+=1\n",
    "    pairs *= 2\n",
    "    return reproduce(pairs,month)\n",
    "\n",
    "reproduce(1,0)"
   ]
  }
 ],
 "metadata": {
  "kernelspec": {
   "display_name": "Python 3",
   "language": "python",
   "name": "python3"
  },
  "language_info": {
   "codemirror_mode": {
    "name": "ipython",
    "version": 3
   },
   "file_extension": ".py",
   "mimetype": "text/x-python",
   "name": "python",
   "nbconvert_exporter": "python",
   "pygments_lexer": "ipython3",
   "version": "3.13.5"
  }
 },
 "nbformat": 4,
 "nbformat_minor": 5
}
