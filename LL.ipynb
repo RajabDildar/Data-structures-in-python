{
 "cells": [
  {
   "cell_type": "code",
   "execution_count": 3,
   "id": "39458fad",
   "metadata": {},
   "outputs": [],
   "source": [
    "class Node:\n",
    "    def __init__(self,data,next=None):\n",
    "        self.data = data\n",
    "        self.next = next"
   ]
  },
  {
   "cell_type": "code",
   "execution_count": 34,
   "id": "9dbc7d63",
   "metadata": {},
   "outputs": [],
   "source": [
    "class LinkedList:\n",
    "    def __init__(self):\n",
    "        self.head = None\n",
    "        # no. of nodes in LinkedList\n",
    "        self.n = 0\n",
    "\n",
    "    def __len__(self):\n",
    "        return self.n\n",
    "    \n",
    "    def insert_head(self,value):\n",
    "        # new_node create\n",
    "        new_node = Node(value)\n",
    "        # create connection\n",
    "        new_node.next = self.head\n",
    "        # reassign head\n",
    "        self.head = new_node\n",
    "        # increase number of nodes\n",
    "        self.n += 1\n",
    "\n",
    "    def __str__(self):\n",
    "        curr_node = self.head\n",
    "        result = \"\"\n",
    "        while curr_node != None:\n",
    "            result = result + str(curr_node.data) + \" --> \"\n",
    "            curr_node = curr_node.next\n",
    "\n",
    "        return result[:-4] \n",
    "\n",
    "    def append(self,value):\n",
    "        new_node = Node(value)\n",
    "\n",
    "        if self.head == None:\n",
    "            self.head = new_node\n",
    "            self.n += 1\n",
    "            return\n",
    "        \n",
    "        curr_node = self.head\n",
    "        while curr_node.next != None:\n",
    "            curr_node = curr_node.next\n",
    "            \n",
    "        curr_node.next = new_node\n",
    "        self.n += 1\n",
    "\n",
    "    def insert_after(self,after,value):\n",
    "        new_node = Node(value)\n",
    "        curr = self.head\n",
    "        while curr != None:\n",
    "            if (curr.data == after):\n",
    "                break\n",
    "            curr = curr.next\n",
    "        else:\n",
    "            return \"value not found\"\n",
    "        \n",
    "        new_node.next = curr.next\n",
    "        curr.next = new_node\n",
    "        self.n += 1\n",
    "\n",
    "    def clear(self):\n",
    "        self.head = None\n",
    "        self.n = 0\n",
    "\n",
    "    def delete_head(self):\n",
    "        if (self.head == None):\n",
    "            return \"Empty linkedlist\"\n",
    "        self.head = self.head.next\n",
    "        self.n -= 1\n",
    "\n",
    "    def pop(self):\n",
    "        if (self.head == None):\n",
    "            return \"empty list\"\n",
    "        if(self.head.next == None):\n",
    "            self.head = None\n",
    "            self.n -= 1\n",
    "            return\n",
    "        curr_node = self.head\n",
    "        while curr_node.next.next != None:\n",
    "            curr_node = curr_node.next\n",
    "        \n",
    "        curr_node.next = None\n",
    "        self.n -= 1\n",
    "\n",
    "    def remove(self,value):\n",
    "        curr_node = self.head\n",
    "\n",
    "        if curr_node == None:\n",
    "            return \"Empty LL\"\n",
    "\n",
    "        if curr_node.data == value:\n",
    "            self.delete_head()\n",
    "            return\n",
    "\n",
    "        while curr_node.next != None:\n",
    "            if(curr_node.next.data == value):\n",
    "                break\n",
    "            curr_node = curr_node.next\n",
    "        else:\n",
    "            return \"value not found\"\n",
    "        \n",
    "        curr_node.next = curr_node.next.next\n",
    "        self.n -= 1\n",
    "\n",
    "    def search(self, value):\n",
    "        index = 0\n",
    "        curr_node = self.head\n",
    "\n",
    "        #traverse\n",
    "        while curr_node != None:\n",
    "            if(curr_node.data == value):\n",
    "                break\n",
    "            curr_node = curr_node.next\n",
    "            index += 1\n",
    "        else:\n",
    "            return \"value not found\"\n",
    "        \n",
    "        return f\"{value} is at index {index}\"\n",
    "\n",
    "    def __getitem__(self,index):\n",
    "        curr_node = self.head\n",
    "        for i in range(index):\n",
    "            if(curr_node != None):\n",
    "                curr_node = curr_node.next\n",
    "            else:\n",
    "                return \"Index Not found\"\n",
    "        \n",
    "        if (curr_node != None):\n",
    "            return curr_node.data\n",
    "        else:\n",
    "            return \"Index Not found\"\n",
    "        \n",
    "    def max(self):\n",
    "        if(self.head == None):\n",
    "            return \"Empty LL\"\n",
    "        curr_node = self.head\n",
    "        max_value = curr_node.data\n",
    "        while curr_node != None:\n",
    "            if(curr_node.data > max_value):\n",
    "                max_value = curr_node.data\n",
    "            curr_node = curr_node.next\n",
    "        \n",
    "        return max_value\n",
    "    \n",
    "    def replace_with_max(self,value):\n",
    "        if(self.head == None):\n",
    "            return \"Empty LL\"\n",
    "        max_value = self.max()\n",
    "        curr_node = self.head\n",
    "        while curr_node != None:\n",
    "            if(curr_node.data == max_value):\n",
    "                break\n",
    "            curr_node = curr_node.next\n",
    "\n",
    "        curr_node.data = value\n",
    "\n",
    "    def sum_of_odd(self):\n",
    "        if (self.head == None):\n",
    "            return \"Empty LL\"\n",
    "        curr_node = self.head\n",
    "        sum = 0\n",
    "        temp = 0\n",
    "        while curr_node != None:\n",
    "            if (temp % 2 != 0):\n",
    "                sum += curr_node.data\n",
    "            \n",
    "            temp += 1\n",
    "            curr_node = curr_node.next\n",
    "        \n",
    "        return sum\n",
    "            \n",
    "\n",
    "\n"
   ]
  },
  {
   "cell_type": "code",
   "execution_count": 35,
   "id": "6c7aa340",
   "metadata": {},
   "outputs": [],
   "source": [
    "ll = LinkedList()"
   ]
  },
  {
   "cell_type": "code",
   "execution_count": 40,
   "id": "5f3a32b8",
   "metadata": {},
   "outputs": [
    {
     "data": {
      "text/plain": [
       "9"
      ]
     },
     "execution_count": 40,
     "metadata": {},
     "output_type": "execute_result"
    }
   ],
   "source": [
    "ll.insert_head(10)\n",
    "ll.insert_head(20)\n",
    "ll.insert_head(30)\n",
    "ll.insert_head(40)\n",
    "len(ll)"
   ]
  },
  {
   "cell_type": "code",
   "execution_count": 41,
   "id": "e63b438e",
   "metadata": {},
   "outputs": [],
   "source": [
    "ll.append(100)\n",
    "# ll.insert_after(40,33)\n",
    "# ll.clear()\n",
    "# ll.delete_head()\n",
    "# ll.pop()\n",
    "# len(ll)\n",
    "# ll.remove(30)\n",
    "# ll.search(23)\n",
    "# ll[1]\n",
    "# print(ll)"
   ]
  },
  {
   "cell_type": "code",
   "execution_count": 43,
   "id": "e52bed06",
   "metadata": {},
   "outputs": [
    {
     "data": {
      "text/plain": [
       "180"
      ]
     },
     "execution_count": 43,
     "metadata": {},
     "output_type": "execute_result"
    }
   ],
   "source": [
    "# ll.max()\n",
    "# ll.replace_with_max(55)\n",
    "ll.sum_of_odd()"
   ]
  },
  {
   "cell_type": "code",
   "execution_count": 42,
   "id": "845b22e3",
   "metadata": {},
   "outputs": [
    {
     "name": "stdout",
     "output_type": "stream",
     "text": [
      "40 --> 30 --> 20 --> 10 --> 40 --> 30 --> 20 --> 10 --> 45 --> 100 \n"
     ]
    }
   ],
   "source": [
    "print(ll)"
   ]
  }
 ],
 "metadata": {
  "kernelspec": {
   "display_name": "Python 3",
   "language": "python",
   "name": "python3"
  },
  "language_info": {
   "codemirror_mode": {
    "name": "ipython",
    "version": 3
   },
   "file_extension": ".py",
   "mimetype": "text/x-python",
   "name": "python",
   "nbconvert_exporter": "python",
   "pygments_lexer": "ipython3",
   "version": "3.13.5"
  }
 },
 "nbformat": 4,
 "nbformat_minor": 5
}
