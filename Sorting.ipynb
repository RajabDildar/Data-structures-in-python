{
 "cells": [
  {
   "cell_type": "code",
   "execution_count": null,
   "id": "a7dfc0d4",
   "metadata": {},
   "outputs": [],
   "source": [
    "def is_sorted(arr):\n",
    "    sorted = True\n",
    "    for i in range(len(arr)-1):\n",
    "        if arr[i] > arr[i+1]:\n",
    "            sorted = False\n",
    "            break\n",
    "    \n",
    "    return sorted"
   ]
  },
  {
   "cell_type": "code",
   "execution_count": null,
   "id": "0037c05d",
   "metadata": {},
   "outputs": [],
   "source": [
    "a = [1,2,3,4,7]\n",
    "is_sorted(a)"
   ]
  },
  {
   "cell_type": "code",
   "execution_count": null,
   "id": "58f11c4c",
   "metadata": {},
   "outputs": [],
   "source": [
    "# Monkey sort - randomly shuffling the array, hoping that it will get sorted by its own. time complexity in worst case may be infinite.\n",
    "import random\n",
    "\n",
    "def monkey_sort(arr):\n",
    "    while not is_sorted(arr):\n",
    "        random.shuffle(arr)\n",
    "        print(arr)"
   ]
  },
  {
   "cell_type": "code",
   "execution_count": null,
   "id": "8aab9ea7",
   "metadata": {},
   "outputs": [],
   "source": [
    "monkey_sort([1,3,2])"
   ]
  },
  {
   "cell_type": "code",
   "execution_count": null,
   "id": "3537fac8",
   "metadata": {},
   "outputs": [],
   "source": [
    "def bubble_sort(arr):\n",
    "    end = len(arr)-1\n",
    "    while True:\n",
    "        if end == 0:\n",
    "            break\n",
    "        flag = 0\n",
    "        for i in range(end): \n",
    "            if arr[i] > arr[i+1]:\n",
    "                arr[i],arr[i+1] = arr[i+1], arr[i] # swap\n",
    "                flag = 1\n",
    "        if (flag == 0):\n",
    "            break            \n",
    "        end-=1\n",
    "    \n",
    "    return arr"
   ]
  },
  {
   "cell_type": "code",
   "execution_count": null,
   "id": "797b3689",
   "metadata": {},
   "outputs": [],
   "source": [
    "bubble_sort([1,11,3,4,2,12,9])"
   ]
  },
  {
   "cell_type": "code",
   "execution_count": null,
   "id": "73535cbd",
   "metadata": {},
   "outputs": [],
   "source": [
    "# selection sort is better than bubble sort as less swaping is used in it.\n",
    "def selection_sort(arr):\n",
    "    start = 0\n",
    "    while start != len(arr)-1:\n",
    "        min = start\n",
    "        for i in range(start+1,len(arr)):\n",
    "            if arr[min] > arr[i]:\n",
    "                min = i\n",
    "        arr[start],arr[min] = arr[min],arr[start]\n",
    "        start += 1\n",
    "    return arr"
   ]
  },
  {
   "cell_type": "code",
   "execution_count": null,
   "id": "af5d93ba",
   "metadata": {},
   "outputs": [],
   "source": [
    "selection_sort([4,3,1,5,2])"
   ]
  }
 ],
 "metadata": {
  "kernelspec": {
   "display_name": "Python 3",
   "language": "python",
   "name": "python3"
  },
  "language_info": {
   "codemirror_mode": {
    "name": "ipython",
    "version": 3
   },
   "file_extension": ".py",
   "mimetype": "text/x-python",
   "name": "python",
   "nbconvert_exporter": "python",
   "pygments_lexer": "ipython3",
   "version": "3.13.5"
  }
 },
 "nbformat": 4,
 "nbformat_minor": 5
}
