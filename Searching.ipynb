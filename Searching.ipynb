{
 "cells": [
  {
   "cell_type": "code",
   "execution_count": null,
   "id": "d9b349fb",
   "metadata": {},
   "outputs": [],
   "source": [
    "# Brute force\n",
    "# No sorting required\n",
    "# Time complexity is O(n)\n",
    "def linear_search(arr,item):\n",
    "\n",
    "    for i in range(len(arr)):\n",
    "        if arr[i] == item:\n",
    "            return i\n",
    "    else:\n",
    "        return \"Not found\""
   ]
  },
  {
   "cell_type": "code",
   "execution_count": null,
   "id": "163df762",
   "metadata": {},
   "outputs": [],
   "source": [
    "a = [1,2,3,4,5]\n",
    "linear_search(a,13)"
   ]
  },
  {
   "cell_type": "code",
   "execution_count": null,
   "id": "5968bc60",
   "metadata": {},
   "outputs": [],
   "source": [
    "# Binary Search\n",
    "# Need sorted array to work\n",
    "# Time complexity is log(n)\n",
    "\n",
    "# Binary search using loops\n",
    "def binary_search(arr,item):\n",
    "    L = 0\n",
    "    U = len(arr) - 1 # last index\n",
    "    while L <= U:\n",
    "        mid = (L+U) //2\n",
    "        if arr[mid] == item:\n",
    "            return mid\n",
    "        elif arr[mid] > item:\n",
    "            U = mid-1\n",
    "        else:\n",
    "            L = mid+1\n",
    "    \n",
    "    return \"Not found\""
   ]
  },
  {
   "cell_type": "code",
   "execution_count": null,
   "id": "956e311e",
   "metadata": {},
   "outputs": [],
   "source": [
    "a = [1,2,3,4,5]\n",
    "binary_search(a,2)"
   ]
  },
  {
   "cell_type": "code",
   "execution_count": null,
   "id": "0e203bac",
   "metadata": {},
   "outputs": [],
   "source": [
    "# recursive binary search\n",
    "def binary_search(arr,low,high,item):\n",
    "    if low <= high:\n",
    "        # search\n",
    "        mid = (low+high)//2\n",
    "        if arr[mid] == item:\n",
    "            return mid\n",
    "        elif arr[mid] > item:\n",
    "            return binary_search(arr,low,mid-1,item)\n",
    "        else:\n",
    "            return binary_search(arr,mid+1,high,item)\n",
    "    else:\n",
    "        return \"Not Found\"\n",
    "    "
   ]
  },
  {
   "cell_type": "code",
   "execution_count": null,
   "id": "a063ead9",
   "metadata": {},
   "outputs": [],
   "source": [
    "arr = [11,22,33,44,55]\n",
    "binary_search(arr,0,len(arr)-1,33)"
   ]
  }
 ],
 "metadata": {
  "kernelspec": {
   "display_name": "Python 3",
   "language": "python",
   "name": "python3"
  },
  "language_info": {
   "codemirror_mode": {
    "name": "ipython",
    "version": 3
   },
   "file_extension": ".py",
   "mimetype": "text/x-python",
   "name": "python",
   "nbconvert_exporter": "python",
   "pygments_lexer": "ipython3",
   "version": "3.13.5"
  }
 },
 "nbformat": 4,
 "nbformat_minor": 5
}
