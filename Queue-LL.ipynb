{
 "cells": [
  {
   "cell_type": "code",
   "execution_count": null,
   "id": "d837d064",
   "metadata": {},
   "outputs": [],
   "source": [
    "class Node:\n",
    "    def __init__(self,value,next=None):\n",
    "        self.value = value\n",
    "        self.next = next"
   ]
  },
  {
   "cell_type": "code",
   "execution_count": null,
   "id": "7020a183",
   "metadata": {},
   "outputs": [],
   "source": [
    "class Queue:\n",
    "    def __init__(self):\n",
    "        self.front = None\n",
    "        self.rear = None\n",
    "        self.n = 0\n",
    "\n",
    "    # in queue, we enter new items from tail(rear)\n",
    "    def enqueue(self,value):\n",
    "        new_node = Node(value)\n",
    "        if self.front == None:\n",
    "            self.front = new_node\n",
    "            self.rear = new_node\n",
    "        else:\n",
    "            self.rear.next = new_node\n",
    "            self.rear = new_node\n",
    "        self.n += 1\n",
    "\n",
    "    def __len__(self):\n",
    "        return self.n\n",
    "\n",
    "    # in queue, we remove items from head(front)\n",
    "    def dequeue(self):\n",
    "        if self.front == None:\n",
    "            return \"Emptyt Queue\"\n",
    "        self.front = self.front.next\n",
    "        self.n -= 1\n",
    "\n",
    "    def traverse(self):\n",
    "        curr_node = self.front\n",
    "        result = \"\"\n",
    "        while curr_node != None:\n",
    "            result = result + str(curr_node.value) + \" \"\n",
    "            curr_node = curr_node.next\n",
    "        return \"[\" + result + \"]\"\n",
    "    \n",
    "    def is_empty(self):\n",
    "        return self.front == None\n",
    "    \n"
   ]
  },
  {
   "cell_type": "code",
   "execution_count": null,
   "id": "960a3d68",
   "metadata": {},
   "outputs": [],
   "source": [
    "q = Queue()"
   ]
  },
  {
   "cell_type": "code",
   "execution_count": null,
   "id": "d5a7a000",
   "metadata": {},
   "outputs": [],
   "source": [
    "q.enqueue(14)\n",
    "# q.dequeue()\n",
    "q.traverse()"
   ]
  }
 ],
 "metadata": {
  "kernelspec": {
   "display_name": "Python 3",
   "language": "python",
   "name": "python3"
  },
  "language_info": {
   "codemirror_mode": {
    "name": "ipython",
    "version": 3
   },
   "file_extension": ".py",
   "mimetype": "text/x-python",
   "name": "python",
   "nbconvert_exporter": "python",
   "pygments_lexer": "ipython3",
   "version": "3.13.5"
  }
 },
 "nbformat": 4,
 "nbformat_minor": 5
}
